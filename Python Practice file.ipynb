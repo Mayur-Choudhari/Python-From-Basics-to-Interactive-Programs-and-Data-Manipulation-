{
 "cells": [
  {
   "cell_type": "markdown",
   "id": "8bf963ce",
   "metadata": {},
   "source": [
    "# \"Python Coding Journey: From Basics to Interactive Programs and Data Manipulation\"\n",
    "\n",
    "\n",
    "\n",
    "## Index\n",
    "\n",
    "1. **Introduction to Python:**\n",
    "   - Basic input/output and data types\n",
    "   - Control structures: if, else, while, for\n",
    "\n",
    "2. **Exploring Inbuilt Functions:**\n",
    "   - Understanding and utilizing inbuilt functions\n",
    "   - Demonstrations of `len()`, `input()`, `str()`, and more\n",
    "\n",
    "3. **Data Manipulation Fundamentals:**\n",
    "   - Lists, tuples, sets, and dictionaries\n",
    "   - Indexing, slicing, modifying, and nesting\n",
    "   - Examples: [Task 2: Create a list of length = 10 and access 5th to 8th data](#task-2)\n",
    "\n",
    "4. **Interactive Programming:**\n",
    "   - User input for mathematical operations\n",
    "   - Loop-based interactive calculations\n",
    "   - Examples: [Task 8: Ask 2 numbers from users and store it in num1 and num2](#task-8)\n",
    "\n",
    "5. **Dictionary Mastery:**\n",
    "   - Navigating nested dictionaries\n",
    "   - Modifying keys and values, and adding entries\n",
    "   - Examples: [Task 5: Dictionary operations](#task-5)\n",
    "\n",
    "6. **Tuple Tricks:**\n",
    "   - Workarounds for modifying tuples\n",
    "   - Adding and removing elements creatively\n",
    "   - Examples: [Task 6: Add and remove elements from a tuple](#task-6)\n",
    "\n",
    "7. **Set Strategies:**\n",
    "   - Using `difference()` and `symmetric_difference()` for set operations\n",
    "   - Examples: [Task 7: difference() and symmetric_difference()](#task-7)\n",
    "\n",
    "8. **Arithmetic Operator Selection:**\n",
    "   - Building a user-friendly calculator with user preferences\n",
    "   - Utilizing `while` loops, `if` conditions, and the `continue` statement\n",
    "   - Examples: [Task 8: Ask 2 numbers from users and store it in num1 and num2](#task-8)\n",
    "\n",
    "9. **Enhancing User Interaction:**\n",
    "   - Extending calculator operations with user input checks\n",
    "   - Introducing the `break` statement for controlled program termination\n",
    "   - Examples: [Task 8: Ask 2 numbers from users and store it in num1 and num2](#task-8)\n",
    "\n",
    "10. **Data Looping and Iteration:**\n",
    "    - Printing numbers in reverse with `while` loops\n",
    "    - Iterating through tuples, sets, and dictionaries\n",
    "    - Examples: [Using Loop for set](#using-loop-for-set), [Using loop for dictionary](#using-loop-for-dictionary)\n",
    "\n",
    "11. **Pythonic Techniques:**\n",
    "    - Utilizing  `enumerate()` for compact code\n",
    "    - Examples: [Task 10.4: Go through  enumerate()](#task-10.4)\n",
    "    \n",
    "\n",
    "12. **Your Turn:**\n",
    "    - Encouragement to explore and experiment further\n"
   ]
  },
  {
   "cell_type": "markdown",
   "id": "da2f7924",
   "metadata": {},
   "source": [
    "# Task 1\n",
    "\n",
    "## Inbuilt Function of Python :-\n",
    "\n"
   ]
  },
  {
   "cell_type": "markdown",
   "id": "79620c0b",
   "metadata": {},
   "source": [
    "**1. print : Print the Function.**"
   ]
  },
  {
   "cell_type": "code",
   "execution_count": 1,
   "id": "1ddb9f76",
   "metadata": {},
   "outputs": [
    {
     "name": "stdout",
     "output_type": "stream",
     "text": [
      "Hello, World!\n"
     ]
    }
   ],
   "source": [
    "print(\"Hello, World!\")"
   ]
  },
  {
   "cell_type": "markdown",
   "id": "00d2b9f2",
   "metadata": {},
   "source": [
    "**2. len : Length of given sequence.**"
   ]
  },
  {
   "cell_type": "code",
   "execution_count": 2,
   "id": "2ac9e0e2",
   "metadata": {},
   "outputs": [
    {
     "data": {
      "text/plain": [
       "5"
      ]
     },
     "execution_count": 2,
     "metadata": {},
     "output_type": "execute_result"
    }
   ],
   "source": [
    "length = len(\"Hello\")\n",
    "length"
   ]
  },
  {
   "cell_type": "markdown",
   "id": "065ee07c",
   "metadata": {},
   "source": [
    "**3. input: Accept user input from the console.**"
   ]
  },
  {
   "cell_type": "code",
   "execution_count": 3,
   "id": "5ef2952f",
   "metadata": {},
   "outputs": [
    {
     "name": "stdout",
     "output_type": "stream",
     "text": [
      "Enter your name: Mayur\n"
     ]
    }
   ],
   "source": [
    "name = input(\"Enter your name: \")\n"
   ]
  },
  {
   "cell_type": "markdown",
   "id": "c6c4b0bd",
   "metadata": {},
   "source": [
    "**4. str: Convert values to strings.**"
   ]
  },
  {
   "cell_type": "code",
   "execution_count": 4,
   "id": "2c7559c1",
   "metadata": {},
   "outputs": [
    {
     "data": {
      "text/plain": [
       "'42'"
      ]
     },
     "execution_count": 4,
     "metadata": {},
     "output_type": "execute_result"
    }
   ],
   "source": [
    "num_str = str(42)\n",
    "num_str"
   ]
  },
  {
   "cell_type": "markdown",
   "id": "288702f6",
   "metadata": {},
   "source": [
    "**5. int: Convert values to integers.**"
   ]
  },
  {
   "cell_type": "code",
   "execution_count": 5,
   "id": "dee93138",
   "metadata": {},
   "outputs": [
    {
     "data": {
      "text/plain": [
       "42"
      ]
     },
     "execution_count": 5,
     "metadata": {},
     "output_type": "execute_result"
    }
   ],
   "source": [
    "num_int = int(\"42\")\n",
    "num_int"
   ]
  },
  {
   "cell_type": "markdown",
   "id": "bef4f863",
   "metadata": {},
   "source": [
    "**6. float: Convert values to float point numbers.**"
   ]
  },
  {
   "cell_type": "code",
   "execution_count": 6,
   "id": "aef9bacd",
   "metadata": {},
   "outputs": [
    {
     "data": {
      "text/plain": [
       "3.14"
      ]
     },
     "execution_count": 6,
     "metadata": {},
     "output_type": "execute_result"
    }
   ],
   "source": [
    "num_float = float(\"3.14\")\n",
    "num_float"
   ]
  },
  {
   "cell_type": "markdown",
   "id": "54fe7953",
   "metadata": {},
   "source": [
    "**7. list: Create a list from an iterable.**"
   ]
  },
  {
   "cell_type": "code",
   "execution_count": 7,
   "id": "028034ad",
   "metadata": {},
   "outputs": [
    {
     "data": {
      "text/plain": [
       "[1, 2, 3, 4, 5]"
      ]
     },
     "execution_count": 7,
     "metadata": {},
     "output_type": "execute_result"
    }
   ],
   "source": [
    "numbers = list(range(1, 6))\n",
    "numbers"
   ]
  },
  {
   "cell_type": "markdown",
   "id": "18ce793f",
   "metadata": {},
   "source": [
    "**8. tuple: Create an immutable ordered collection.**"
   ]
  },
  {
   "cell_type": "code",
   "execution_count": 8,
   "id": "b22a09a1",
   "metadata": {},
   "outputs": [
    {
     "data": {
      "text/plain": [
       "(3, 5)"
      ]
     },
     "execution_count": 8,
     "metadata": {},
     "output_type": "execute_result"
    }
   ],
   "source": [
    "coordinates = (3, 5)\n",
    "coordinates"
   ]
  },
  {
   "cell_type": "markdown",
   "id": "f7e53d1c",
   "metadata": {},
   "source": [
    "**9. dict: Create a dictionary (key-value pairs).**"
   ]
  },
  {
   "cell_type": "code",
   "execution_count": 9,
   "id": "88a1af61",
   "metadata": {},
   "outputs": [
    {
     "data": {
      "text/plain": [
       "{'Name': 'Mayur', 'Project': 'Python Assignment'}"
      ]
     },
     "execution_count": 9,
     "metadata": {},
     "output_type": "execute_result"
    }
   ],
   "source": [
    "dict={'Name':'Mayur','Project':'Python Assignment'}\n",
    "dict"
   ]
  },
  {
   "cell_type": "markdown",
   "id": "b7a06140",
   "metadata": {},
   "source": [
    "**10. set: Create an unordered collection of unique elements.**"
   ]
  },
  {
   "cell_type": "code",
   "execution_count": 10,
   "id": "0c9d6bdd",
   "metadata": {},
   "outputs": [
    {
     "data": {
      "text/plain": [
       "{1, 2, 3, 4, 5}"
      ]
     },
     "execution_count": 10,
     "metadata": {},
     "output_type": "execute_result"
    }
   ],
   "source": [
    "set1 = set([1, 2, 3, 3, 4, 4, 5])\n",
    "set1"
   ]
  },
  {
   "cell_type": "markdown",
   "id": "9486cf14",
   "metadata": {},
   "source": [
    "**11. range: Generate a sequence of numbers.**"
   ]
  },
  {
   "cell_type": "code",
   "execution_count": 11,
   "id": "a5d80a0b",
   "metadata": {},
   "outputs": [
    {
     "data": {
      "text/plain": [
       "range(1, 8)"
      ]
     },
     "execution_count": 11,
     "metadata": {},
     "output_type": "execute_result"
    }
   ],
   "source": [
    "num_range = range(1, 8)\n",
    "num_range"
   ]
  },
  {
   "cell_type": "markdown",
   "id": "0d0b41dd",
   "metadata": {},
   "source": [
    "**12. max and min: Find the maximum and minimum values in a sequence.**"
   ]
  },
  {
   "cell_type": "code",
   "execution_count": 12,
   "id": "a122ea60",
   "metadata": {},
   "outputs": [],
   "source": [
    "max_value = max([9, 5, 8, 2])\n",
    "min_value = min([9, 5, 8, 2])"
   ]
  },
  {
   "cell_type": "code",
   "execution_count": 13,
   "id": "ce939136",
   "metadata": {},
   "outputs": [
    {
     "data": {
      "text/plain": [
       "9"
      ]
     },
     "execution_count": 13,
     "metadata": {},
     "output_type": "execute_result"
    }
   ],
   "source": [
    "max_value"
   ]
  },
  {
   "cell_type": "code",
   "execution_count": 14,
   "id": "d5b732bd",
   "metadata": {},
   "outputs": [
    {
     "data": {
      "text/plain": [
       "2"
      ]
     },
     "execution_count": 14,
     "metadata": {},
     "output_type": "execute_result"
    }
   ],
   "source": [
    "min_value"
   ]
  },
  {
   "cell_type": "markdown",
   "id": "60a094c8",
   "metadata": {},
   "source": [
    "**13. sum: Calculate the sum of a sequence of numbers.**"
   ]
  },
  {
   "cell_type": "code",
   "execution_count": 15,
   "id": "af322ed9",
   "metadata": {},
   "outputs": [],
   "source": [
    "total=sum([4,6,1,9])"
   ]
  },
  {
   "cell_type": "code",
   "execution_count": 16,
   "id": "8118b87c",
   "metadata": {},
   "outputs": [
    {
     "data": {
      "text/plain": [
       "20"
      ]
     },
     "execution_count": 16,
     "metadata": {},
     "output_type": "execute_result"
    }
   ],
   "source": [
    "total"
   ]
  },
  {
   "cell_type": "markdown",
   "id": "b49fa8bf",
   "metadata": {},
   "source": [
    "**14. sorted: Return a sorted version of a sequence.**"
   ]
  },
  {
   "cell_type": "code",
   "execution_count": 17,
   "id": "ae21c2b1",
   "metadata": {},
   "outputs": [],
   "source": [
    "sorted_list=sorted([6,8,3,7,3])"
   ]
  },
  {
   "cell_type": "code",
   "execution_count": 18,
   "id": "eba10a52",
   "metadata": {},
   "outputs": [
    {
     "data": {
      "text/plain": [
       "[3, 3, 6, 7, 8]"
      ]
     },
     "execution_count": 18,
     "metadata": {},
     "output_type": "execute_result"
    }
   ],
   "source": [
    "sorted_list"
   ]
  },
  {
   "cell_type": "markdown",
   "id": "c8055f12",
   "metadata": {},
   "source": [
    "**15. join: Combine elements of a sequence into a string.**"
   ]
  },
  {
   "cell_type": "code",
   "execution_count": 19,
   "id": "74a87b7d",
   "metadata": {},
   "outputs": [],
   "source": [
    "words=(\"Hello\",\"All\")\n",
    "sentence= \" \".join(words)"
   ]
  },
  {
   "cell_type": "code",
   "execution_count": 20,
   "id": "b0255ce6",
   "metadata": {},
   "outputs": [
    {
     "data": {
      "text/plain": [
       "'Hello All'"
      ]
     },
     "execution_count": 20,
     "metadata": {},
     "output_type": "execute_result"
    }
   ],
   "source": [
    "sentence"
   ]
  },
  {
   "cell_type": "markdown",
   "id": "397db076",
   "metadata": {},
   "source": [
    "**16. split: Split a string into a list of substrings.** "
   ]
  },
  {
   "cell_type": "code",
   "execution_count": 21,
   "id": "32c3f623",
   "metadata": {},
   "outputs": [],
   "source": [
    "sentence=\"Hello All\"\n",
    "words=sentence.split()"
   ]
  },
  {
   "cell_type": "code",
   "execution_count": 22,
   "id": "725dee3b",
   "metadata": {},
   "outputs": [
    {
     "data": {
      "text/plain": [
       "['Hello', 'All']"
      ]
     },
     "execution_count": 22,
     "metadata": {},
     "output_type": "execute_result"
    }
   ],
   "source": [
    "words"
   ]
  },
  {
   "cell_type": "markdown",
   "id": "e9e75456",
   "metadata": {},
   "source": [
    "## Task 2.  Given a string for example :-\n",
    "  ##### str1 = \"Welcome to python\"\n",
    "  ##### check if \"to\" is present in \"welcome to python\""
   ]
  },
  {
   "cell_type": "code",
   "execution_count": 23,
   "id": "66b2a210",
   "metadata": {},
   "outputs": [],
   "source": [
    "str1=\"Welcome to python\"   # created a string"
   ]
  },
  {
   "cell_type": "code",
   "execution_count": 24,
   "id": "234bb3b4",
   "metadata": {},
   "outputs": [
    {
     "name": "stdout",
     "output_type": "stream",
     "text": [
      "'to' is present in given string\n"
     ]
    }
   ],
   "source": [
    "if \"to\" in str1:\n",
    "    print(\"'to' is present in given string\")\n",
    "    "
   ]
  },
  {
   "cell_type": "markdown",
   "id": "0a28bfde",
   "metadata": {},
   "source": [
    "# Task-3.1\n",
    "\n",
    "### Go through other inbuilt methods like remove(),count(),clear(),sort(),reverse()\n"
   ]
  },
  {
   "cell_type": "markdown",
   "id": "7e65ed6d",
   "metadata": {},
   "source": [
    "**1. remove(): Removes the first occurrence of a specified value from a list.**"
   ]
  },
  {
   "cell_type": "code",
   "execution_count": 25,
   "id": "2ca8de51",
   "metadata": {},
   "outputs": [
    {
     "name": "stdout",
     "output_type": "stream",
     "text": [
      "['Yuvraj', 'Dhoni', 'Kaif']\n"
     ]
    }
   ],
   "source": [
    "list=['Yuvraj','Dhoni','Raina','Kaif']\n",
    "list.remove('Raina')\n",
    "print(list)"
   ]
  },
  {
   "cell_type": "markdown",
   "id": "80083db2",
   "metadata": {},
   "source": [
    "**2. count(): Counts the occurrences of a specified value in a list**"
   ]
  },
  {
   "cell_type": "code",
   "execution_count": 26,
   "id": "bbd5b74f",
   "metadata": {},
   "outputs": [],
   "source": [
    "my_data=\"Python is programming language\"\n",
    "my_output=my_data.count(\"n\")"
   ]
  },
  {
   "cell_type": "code",
   "execution_count": 27,
   "id": "be3407d2",
   "metadata": {},
   "outputs": [
    {
     "name": "stdout",
     "output_type": "stream",
     "text": [
      "3\n"
     ]
    }
   ],
   "source": [
    "print(my_output)"
   ]
  },
  {
   "cell_type": "markdown",
   "id": "25d4593f",
   "metadata": {},
   "source": [
    "**3. clear(): Removes all elements from a list, making it empty.**"
   ]
  },
  {
   "cell_type": "code",
   "execution_count": 28,
   "id": "f65b422c",
   "metadata": {},
   "outputs": [],
   "source": [
    "list=['Yuvraj','Dhoni','Raina','Kaif']\n",
    "list.clear()"
   ]
  },
  {
   "cell_type": "code",
   "execution_count": 29,
   "id": "e6200793",
   "metadata": {},
   "outputs": [
    {
     "name": "stdout",
     "output_type": "stream",
     "text": [
      "[]\n"
     ]
    }
   ],
   "source": [
    "print(list)"
   ]
  },
  {
   "cell_type": "markdown",
   "id": "95b1aa01",
   "metadata": {},
   "source": [
    "**4. sort(): Sorts the elements of a list in ascending order**"
   ]
  },
  {
   "cell_type": "code",
   "execution_count": 30,
   "id": "0b28f91a",
   "metadata": {},
   "outputs": [],
   "source": [
    "numbers = [5, 2, 8, 1]\n",
    "numbers.sort()"
   ]
  },
  {
   "cell_type": "code",
   "execution_count": 31,
   "id": "4322635e",
   "metadata": {},
   "outputs": [
    {
     "name": "stdout",
     "output_type": "stream",
     "text": [
      "[1, 2, 5, 8]\n"
     ]
    }
   ],
   "source": [
    "print(numbers) "
   ]
  },
  {
   "cell_type": "markdown",
   "id": "2dfdeb40",
   "metadata": {},
   "source": [
    "**5. reverse(): Reverses the elements of a list**"
   ]
  },
  {
   "cell_type": "code",
   "execution_count": 32,
   "id": "99ee41c9",
   "metadata": {},
   "outputs": [],
   "source": [
    "numbers=[5,4,3,2,1]\n",
    "numbers.reverse()"
   ]
  },
  {
   "cell_type": "code",
   "execution_count": 33,
   "id": "8dca5838",
   "metadata": {},
   "outputs": [
    {
     "name": "stdout",
     "output_type": "stream",
     "text": [
      "[1, 2, 3, 4, 5]\n"
     ]
    }
   ],
   "source": [
    "print(numbers)"
   ]
  },
  {
   "cell_type": "markdown",
   "id": "ba442f26",
   "metadata": {},
   "source": [
    "# Task 3.2\n",
    "### Create a list of lenght = 10 and access 5th to 8th data."
   ]
  },
  {
   "cell_type": "code",
   "execution_count": 34,
   "id": "b049546e",
   "metadata": {},
   "outputs": [
    {
     "name": "stdout",
     "output_type": "stream",
     "text": [
      "[5, 6, 7, 8]\n"
     ]
    }
   ],
   "source": [
    "my_list = [1, 2, 3, 4, 5, 6, 7, 8, 9, 10]\n",
    "output = my_list[4:8]    \n",
    "print(output)  "
   ]
  },
  {
   "cell_type": "markdown",
   "id": "242a463c",
   "metadata": {},
   "source": [
    "# Task-4: \n",
    "## 2 problems!\n",
    " **1)Add item 70 after 60 in the following Python List**\n",
    " \n",
    " **input**\n",
    "\n",
    "**l1 = [10, 20, [30, 40, [50, 60], 80], 90, 100]**\n",
    "\n",
    "**output**\n",
    "\n",
    "**[10, 20, [30, 40, [50, 60, 70], 80], 90, 100]**\n"
   ]
  },
  {
   "cell_type": "code",
   "execution_count": 35,
   "id": "ea4f2123",
   "metadata": {},
   "outputs": [],
   "source": [
    "l1=[10,20,[30,40,[50,60],80],90,100]\n",
    "inner_list=l1[2][2]"
   ]
  },
  {
   "cell_type": "code",
   "execution_count": 36,
   "id": "1edbde93",
   "metadata": {},
   "outputs": [
    {
     "name": "stdout",
     "output_type": "stream",
     "text": [
      "[10, 20, [30, 40, [50, 60, 70], 80], 90, 100]\n"
     ]
    }
   ],
   "source": [
    "inner_list.append(70)\n",
    "print(l1)"
   ]
  },
  {
   "cell_type": "markdown",
   "id": "005e54bd",
   "metadata": {},
   "source": [
    "### 2)\n",
    "###### add sublist [7,8] after 6\n",
    "##### input\n",
    "##### l2 = [1,2,[3,4,5,6],9]\n",
    "##### output\n",
    "##### [1,2,[3,4,5,6,[7,8]],9]"
   ]
  },
  {
   "cell_type": "code",
   "execution_count": 37,
   "id": "8ef57464",
   "metadata": {},
   "outputs": [
    {
     "name": "stdout",
     "output_type": "stream",
     "text": [
      "[1, 2, [3, 4, 5, 6, [7, 8]], 9]\n"
     ]
    }
   ],
   "source": [
    "l2 = [1, 2, [3, 4, 5,6], 9]\n",
    "\n",
    "# Create the sublist [7, 8]\n",
    "sublist = [7, 8]\n",
    "\n",
    "# Append the sublist to the nested list\n",
    "l2[2].append(sublist)\n",
    "\n",
    "print(l2)\n"
   ]
  },
  {
   "cell_type": "markdown",
   "id": "064324ad",
   "metadata": {},
   "source": [
    "# Task-5\n",
    "\n",
    "code:\n",
    "dict1 = { \n",
    "   \"april_batch\":{ \n",
    "      \"student\":{ \n",
    "         \"name\":\"Mike\",\n",
    "         \"marks\":{ \n",
    "            \"python\":80,\n",
    "            \"maths\":70\n",
    "         }\n",
    "      }\n",
    "   }\n",
    "}\n",
    "\n",
    "Questions:\n",
    "From the above dictionary, do the following tasks\n",
    "\n",
    "access \"Mike\"\n",
    "access 80\n",
    "change \"Mike\" to \"Your name\"\n",
    "add ML = 80 and DL = 80 inside marks"
   ]
  },
  {
   "cell_type": "code",
   "execution_count": 38,
   "id": "6b5df9d7",
   "metadata": {},
   "outputs": [],
   "source": [
    "dict1 = {\"april_batch\":{ \"student\":{ \"name\":\"Mike\",\"marks\":{ \"python\":80,\"maths\":70 }}}}"
   ]
  },
  {
   "cell_type": "code",
   "execution_count": 39,
   "id": "b9901238",
   "metadata": {},
   "outputs": [
    {
     "data": {
      "text/plain": [
       "{'april_batch': {'student': {'name': 'Mike',\n",
       "   'marks': {'python': 80, 'maths': 70}}}}"
      ]
     },
     "execution_count": 39,
     "metadata": {},
     "output_type": "execute_result"
    }
   ],
   "source": [
    "dict1"
   ]
  },
  {
   "cell_type": "code",
   "execution_count": 40,
   "id": "3dc950e6",
   "metadata": {},
   "outputs": [
    {
     "name": "stdout",
     "output_type": "stream",
     "text": [
      "Student Name is : Mike\n"
     ]
    }
   ],
   "source": [
    "# Task 1 access 'Mike'\n",
    "student_name=dict1[\"april_batch\"][\"student\"]['name']\n",
    "print(\"Student Name is :\",student_name)"
   ]
  },
  {
   "cell_type": "code",
   "execution_count": 41,
   "id": "9d324d71",
   "metadata": {},
   "outputs": [
    {
     "name": "stdout",
     "output_type": "stream",
     "text": [
      "Python Marks is : 80\n"
     ]
    }
   ],
   "source": [
    "# Task 2 Access 80\n",
    "python_marks=dict1[\"april_batch\"][\"student\"][\"marks\"][\"python\"]\n",
    "print(\"Python Marks is :\",python_marks)"
   ]
  },
  {
   "cell_type": "code",
   "execution_count": 42,
   "id": "0bdc5418",
   "metadata": {},
   "outputs": [
    {
     "name": "stdout",
     "output_type": "stream",
     "text": [
      "Upadated Dictionary Name is : {'april_batch': {'student': {'name': 'Mayur', 'marks': {'python': 80, 'maths': 70}}}}\n"
     ]
    }
   ],
   "source": [
    "# Task 3 change Mike to your name\n",
    "dict1[\"april_batch\"][\"student\"]['name']=\"Mayur\"\n",
    "print(\"Upadated Dictionary Name is :\",dict1)"
   ]
  },
  {
   "cell_type": "code",
   "execution_count": 43,
   "id": "961b629c",
   "metadata": {},
   "outputs": [
    {
     "name": "stdout",
     "output_type": "stream",
     "text": [
      "Updated Dictionary with Updated Marks: {'april_batch': {'student': {'name': 'Mayur', 'marks': {'python': 80, 'maths': 70, 'ML': 80, 'DL': 80}}}}\n"
     ]
    }
   ],
   "source": [
    "# Task 4 add ML = 80 and DL = 80 inside marks\n",
    "dict1[\"april_batch\"][\"student\"][\"marks\"].update({\"ML\":80,\"DL\":80})\n",
    "print(\"Updated Dictionary with Updated Marks:\",dict1)"
   ]
  },
  {
   "cell_type": "markdown",
   "id": "596ad66b",
   "metadata": {},
   "source": [
    "# Task- 6\n",
    " \n",
    "### Add and remove the elements from a tuple. (Refer workaroud to modify the tuples)\n",
    "\n",
    "**As we know Tuple is immutable. But we can modify it doing certain operations.**"
   ]
  },
  {
   "cell_type": "code",
   "execution_count": 44,
   "id": "00345742",
   "metadata": {},
   "outputs": [],
   "source": [
    "# Adding\n",
    "original_tuple=(1,2,3)\n",
    "new_element=4\n",
    "new_tuple=original_tuple+(new_element,)"
   ]
  },
  {
   "cell_type": "code",
   "execution_count": 45,
   "id": "257646e5",
   "metadata": {},
   "outputs": [
    {
     "name": "stdout",
     "output_type": "stream",
     "text": [
      "(1, 2, 3, 4)\n"
     ]
    }
   ],
   "source": [
    "print(new_tuple)"
   ]
  },
  {
   "cell_type": "code",
   "execution_count": 46,
   "id": "c204f2ca",
   "metadata": {},
   "outputs": [
    {
     "name": "stdout",
     "output_type": "stream",
     "text": [
      "(1, 2, 3, 5, 6, 7)\n"
     ]
    }
   ],
   "source": [
    "# removing\n",
    "original_tuple=(1,2,3,4,5,6,7)\n",
    "element_to_remove=4\n",
    "new_tuple=tuple(element for element in original_tuple if element != element_to_remove)\n",
    "print(new_tuple)"
   ]
  },
  {
   "cell_type": "markdown",
   "id": "758b9c90",
   "metadata": {},
   "source": [
    "# Task-7  \n",
    "Go through other inbuilt methods like\n",
    "difference()\n",
    "symmetric_difference()\n"
   ]
  },
  {
   "cell_type": "code",
   "execution_count": 47,
   "id": "63fd263f",
   "metadata": {},
   "outputs": [
    {
     "name": "stdout",
     "output_type": "stream",
     "text": [
      "{1, 2}\n"
     ]
    }
   ],
   "source": [
    "# difference()\n",
    "set1 = {1, 2, 3, 4, 5}\n",
    "set2 = {3, 4, 5, 6, 7}\n",
    "\n",
    "difference_set = set1.difference(set2)  # used to find the elements that are in the first set but not in the second set.\n",
    "print(difference_set) \n"
   ]
  },
  {
   "cell_type": "code",
   "execution_count": 48,
   "id": "d6b9097a",
   "metadata": {},
   "outputs": [
    {
     "name": "stdout",
     "output_type": "stream",
     "text": [
      "{6, 7}\n"
     ]
    }
   ],
   "source": [
    "set1 = {1, 2, 3, 4, 5}\n",
    "set2 = {3, 4, 5, 6, 7}\n",
    "\n",
    "difference_set = set2.difference(set1)  # used to find the elements that are in the second set but not in the first set.\n",
    "print(difference_set)"
   ]
  },
  {
   "cell_type": "code",
   "execution_count": 49,
   "id": "a3436559",
   "metadata": {},
   "outputs": [
    {
     "name": "stdout",
     "output_type": "stream",
     "text": [
      "{1, 2, 6, 7}\n"
     ]
    }
   ],
   "source": [
    "# symmetric_difference()\n",
    "set1 = {1, 2, 3, 4, 5}\n",
    "set2 = {3, 4, 5, 6, 7}\n",
    "\n",
    "symmetric_difference_set = set1.symmetric_difference(set2)  # it will give us elements that are unique to each set\n",
    "print(symmetric_difference_set) \n"
   ]
  },
  {
   "cell_type": "markdown",
   "id": "aeb0fabc",
   "metadata": {},
   "source": [
    "# Task 8\n",
    "Ask 2 numbers from users and store it in num1 and num2\n",
    "Ask user to press 1 for addition,2 for subtraction,3 for multiplication and 4 for division\n",
    "based on number given by user do the math operation"
   ]
  },
  {
   "cell_type": "code",
   "execution_count": 50,
   "id": "c44863a1",
   "metadata": {},
   "outputs": [
    {
     "name": "stdout",
     "output_type": "stream",
     "text": [
      "Enter First Number :  1\n",
      "Enter second Number :  2\n",
      "Choose an operation to perform :\n",
      "1 for Addition\n",
      "2 for Substraction\n",
      "3 for Multiplication\n",
      "4 for Division\n",
      "Enter your choice (1/2/3/4) :2\n",
      "Result is : -1\n"
     ]
    }
   ],
   "source": [
    "num1=int(input(\"Enter First Number :  \" ))\n",
    "num2=int(input(\"Enter second Number :  \" ))\n",
    "\n",
    "print(\"Choose an operation to perform :\")\n",
    "print(\"1 for Addition\")    \n",
    "print(\"2 for Substraction\")   \n",
    "print(\"3 for Multiplication\")   \n",
    "print(\"4 for Division\")\n",
    "\n",
    "\n",
    "choice=int(input(\"Enter your choice (1/2/3/4) :\"))\n",
    "\n",
    "if choice==1:\n",
    "    result=num1+num2\n",
    "    operation='Addition'\n",
    "elif choice==2:\n",
    "    result=num1-num2\n",
    "    operation=\"Substraction\"\n",
    "elif choice==3:\n",
    "    result=num1*num2\n",
    "    operation=\"Multiplication\"\n",
    "elif choice==4:\n",
    "    if num2!=0:\n",
    "        result=num1/num2\n",
    "        operation=\"Division\"\n",
    "    else:\n",
    "        print(\"Cannot divide by zero\")\n",
    "        result=None\n",
    "else:\n",
    "    print(\"Try again with valid option\")\n",
    "    result=None\n",
    "    \n",
    "if result is not None:\n",
    "    print(\"Result is :\",result)\n"
   ]
  },
  {
   "cell_type": "markdown",
   "id": "73def575",
   "metadata": {},
   "source": [
    "#### Second Example \n",
    "**Here I'm asking the user if they want to perform another operation or exit.** "
   ]
  },
  {
   "cell_type": "code",
   "execution_count": 51,
   "id": "b1639d76",
   "metadata": {},
   "outputs": [
    {
     "name": "stdout",
     "output_type": "stream",
     "text": [
      "Enter First Number :  1\n",
      "Enter second Number :  3\n",
      "Choose an operation to perform :\n",
      "1 for Addition\n",
      "2 for Substraction\n",
      "3 for Multiplication\n",
      "4 for Division\n",
      "Enter your choice (1/2/3/4) :3\n",
      "Result is : 3\n",
      "Do you want to perform another operation (yes/no): yus\n"
     ]
    }
   ],
   "source": [
    "while True:\n",
    "    num1=int(input(\"Enter First Number :  \" ))\n",
    "    num2=int(input(\"Enter second Number :  \" ))\n",
    "    \n",
    "    print(\"Choose an operation to perform :\")\n",
    "    print(\"1 for Addition\")    \n",
    "    print(\"2 for Substraction\")   \n",
    "    print(\"3 for Multiplication\")   \n",
    "    print(\"4 for Division\")\n",
    "    \n",
    "    choice=int(input(\"Enter your choice (1/2/3/4) :\"))\n",
    "    if choice==1:\n",
    "        result=num1+num2\n",
    "        operation='Addition'\n",
    "    elif choice==2:\n",
    "        result=num1-num2\n",
    "        operation=\"Substraction\"\n",
    "    elif choice==3:\n",
    "        result=num1*num2\n",
    "        operation=\"Multiplication\"\n",
    "    elif choice==4:\n",
    "        if num2!=0:\n",
    "            result=num1/num2\n",
    "            operation=\"Division\"\n",
    "        else:\n",
    "            print(\"Cannot divide by zero\")\n",
    "            result=None\n",
    "    else:\n",
    "        print(\"Try again with valid option\")\n",
    "        result=None\n",
    "    \n",
    "    if result is not None:\n",
    "        print(\"Result is :\",result)\n",
    "        \n",
    "    repeat=input(\"Do you want to perform another operation (yes/no): \")\n",
    "    if repeat.lower()!= \"yes\":\n",
    "        break"
   ]
  },
  {
   "cell_type": "markdown",
   "id": "e756b578",
   "metadata": {},
   "source": [
    " #### Third example\n",
    " **If the user has entered any random word except (yes/no) in \"Do you want to perform another operation (yes/no)\", Then Break the program there only and send him the message \"Your Prefrence should be yes or no\".**\n",
    " \n",
    "## Continue statement\n",
    "\n",
    "#### Here, we are using Continue statement :-  to skip the remaining code inside the loop for the current iteration and move to the next iteration."
   ]
  },
  {
   "cell_type": "code",
   "execution_count": 52,
   "id": "de9aeb48",
   "metadata": {},
   "outputs": [
    {
     "name": "stdout",
     "output_type": "stream",
     "text": [
      "Enter First Number :  1\n",
      "Enter second Number :  2\n",
      "Choose an operation to perform :\n",
      "1 for Addition\n",
      "2 for Substraction\n",
      "3 for Multiplication\n",
      "4 for Division\n",
      "Enter your choice (1/2/3/4) :3\n",
      "Result is : 2\n",
      "Do you want to perform another operation (yes/no): yes\n",
      "Enter First Number :  2\n",
      "Enter second Number :  0\n",
      "Choose an operation to perform :\n",
      "1 for Addition\n",
      "2 for Substraction\n",
      "3 for Multiplication\n",
      "4 for Division\n",
      "Enter your choice (1/2/3/4) :4\n",
      "Cannot divide by zero\n",
      "Do you want to perform another operation (yes/no): no\n"
     ]
    }
   ],
   "source": [
    "while True:\n",
    "    num1=int(input(\"Enter First Number :  \" ))\n",
    "    num2=int(input(\"Enter second Number :  \" ))\n",
    "    \n",
    "    print(\"Choose an operation to perform :\")\n",
    "    print(\"1 for Addition\")    \n",
    "    print(\"2 for Substraction\")   \n",
    "    print(\"3 for Multiplication\")   \n",
    "    print(\"4 for Division\")\n",
    "    \n",
    "    choice=int(input(\"Enter your choice (1/2/3/4) :\"))\n",
    "    if choice==1:\n",
    "        result=num1+num2\n",
    "        operation='Addition'\n",
    "    elif choice==2:\n",
    "        result=num1-num2\n",
    "        operation=\"Substraction\"\n",
    "    elif choice==3:\n",
    "        result=num1*num2\n",
    "        operation=\"Multiplication\"\n",
    "    elif choice==4:\n",
    "        if num2!=0:\n",
    "            result=num1/num2\n",
    "            operation=\"Division\"\n",
    "        else:\n",
    "            print(\"Cannot divide by zero\")\n",
    "            result=None\n",
    "    else:\n",
    "        print(\"Try again with valid option\")\n",
    "        result=None\n",
    "    \n",
    "    if result is not None:\n",
    "        print(\"Result is :\",result)\n",
    "        \n",
    "    repeat=input(\"Do you want to perform another operation (yes/no): \")\n",
    "    if repeat.lower()==\"no\":\n",
    "        break\n",
    "    if repeat.lower()=='yes':\n",
    "        continue\n",
    "    else:\n",
    "        print(\"Your Prefrence should be yes or no \")\n",
    "        break"
   ]
  },
  {
   "cell_type": "markdown",
   "id": "c0e95690",
   "metadata": {},
   "source": [
    "#### Fourth Example\n",
    "\n",
    "## Pass Statement\n",
    "\n",
    "##### In the context of above code. we can use pass to indicate that no specific action is required in certain conditions. "
   ]
  },
  {
   "cell_type": "code",
   "execution_count": 53,
   "id": "090219d6",
   "metadata": {},
   "outputs": [
    {
     "name": "stdout",
     "output_type": "stream",
     "text": [
      "Enter First Number :  1\n",
      "Enter second Number :  4\n",
      "Choose an operation to perform :\n",
      "1 for Addition\n",
      "2 for Substraction\n",
      "3 for Multiplication\n",
      "4 for Division\n",
      "Enter your choice (1/2/3/4) :2\n",
      "Result is : -3\n",
      "Do you want to perform another operation (yes/no): nnnn\n",
      "Your Prefrence should be yes or no \n"
     ]
    }
   ],
   "source": [
    "while True:\n",
    "    num1=int(input(\"Enter First Number :  \" ))\n",
    "    num2=int(input(\"Enter second Number :  \" ))\n",
    "    \n",
    "    print(\"Choose an operation to perform :\")\n",
    "    print(\"1 for Addition\")    \n",
    "    print(\"2 for Substraction\")   \n",
    "    print(\"3 for Multiplication\")   \n",
    "    print(\"4 for Division\")\n",
    "    \n",
    "    choice=int(input(\"Enter your choice (1/2/3/4) :\"))\n",
    "    if choice==1:\n",
    "        result=num1+num2\n",
    "        operation='Addition'\n",
    "    elif choice==2:\n",
    "        result=num1-num2\n",
    "        operation=\"Substraction\"\n",
    "    elif choice==3:\n",
    "        result=num1*num2\n",
    "        operation=\"Multiplication\"\n",
    "    elif choice==4:\n",
    "        if num2!=0:\n",
    "            result=num1/num2\n",
    "            operation=\"Division\"\n",
    "        else:\n",
    "            print(\"Cannot divide by zero\")\n",
    "            result=None\n",
    "    else:\n",
    "        print(\"Try again with valid option\")\n",
    "        result=None\n",
    "        pass\n",
    "    \n",
    "    if result is not None:\n",
    "        print(\"Result is :\",result)\n",
    "        \n",
    "    repeat=input(\"Do you want to perform another operation (yes/no): \")\n",
    "    if repeat.lower()==\"no\":\n",
    "        break\n",
    "    if repeat.lower()=='yes':\n",
    "        continue\n",
    "    else:\n",
    "        print(\"Your Prefrence should be yes or no \")\n",
    "        break"
   ]
  },
  {
   "cell_type": "markdown",
   "id": "6681351f",
   "metadata": {},
   "source": [
    "#### Using while loop print numbers from 10 to 1\n"
   ]
  },
  {
   "cell_type": "code",
   "execution_count": 54,
   "id": "90ea6412",
   "metadata": {},
   "outputs": [
    {
     "name": "stdout",
     "output_type": "stream",
     "text": [
      "10 9 8 7 6 5 4 3 2 1 "
     ]
    }
   ],
   "source": [
    "num=10\n",
    "while num>=1:\n",
    "    print(num,end=' ')\n",
    "    num-=1"
   ]
  },
  {
   "cell_type": "markdown",
   "id": "10d179aa",
   "metadata": {},
   "source": [
    "#### Using for loop for tuple"
   ]
  },
  {
   "cell_type": "code",
   "execution_count": 55,
   "id": "8e9b574d",
   "metadata": {},
   "outputs": [
    {
     "name": "stdout",
     "output_type": "stream",
     "text": [
      "<class 'tuple'>\n",
      "python\n",
      "is\n",
      "programming\n",
      "language\n"
     ]
    }
   ],
   "source": [
    "my_tuple=('python', 'is', 'programming', 'language')\n",
    "print(type(my_tuple))\n",
    "for x in my_tuple:\n",
    "    print(x)"
   ]
  },
  {
   "cell_type": "markdown",
   "id": "74e9a6f7",
   "metadata": {},
   "source": [
    "#### Using Loop for set"
   ]
  },
  {
   "cell_type": "code",
   "execution_count": 56,
   "id": "7ee6a2fd",
   "metadata": {},
   "outputs": [
    {
     "name": "stdout",
     "output_type": "stream",
     "text": [
      "<class 'set'>\n",
      "1\n",
      "2\n",
      "3\n",
      "4\n",
      "5\n"
     ]
    }
   ],
   "source": [
    "my_set={1,2,3,4,5}\n",
    "print(type(my_set))\n",
    "for x in my_set:\n",
    "    print(x)"
   ]
  },
  {
   "cell_type": "markdown",
   "id": "ab57530a",
   "metadata": {},
   "source": [
    "#### Using loop for dictionary"
   ]
  },
  {
   "cell_type": "code",
   "execution_count": 57,
   "id": "4eb27bbd",
   "metadata": {},
   "outputs": [
    {
     "name": "stdout",
     "output_type": "stream",
     "text": [
      "<class 'dict'>\n",
      "Key:name,value:kohli\n",
      "Key:captain,value:dhoni\n"
     ]
    }
   ],
   "source": [
    "my_dict={\"name\":\"kohli\",\"captain\":\"dhoni\"}\n",
    "print(type(my_dict))\n",
    "for key,value in my_dict.items():\n",
    "    print(f'Key:{key},value:{value}')"
   ]
  },
  {
   "cell_type": "markdown",
   "id": "678477d1",
   "metadata": {},
   "source": [
    "#### Enumerate Function"
   ]
  },
  {
   "cell_type": "code",
   "execution_count": 60,
   "id": "892c3cba",
   "metadata": {},
   "outputs": [
    {
     "name": "stdout",
     "output_type": "stream",
     "text": [
      "(0, 'p')\n",
      "(1, 'y')\n",
      "(2, 't')\n",
      "(3, 'h')\n",
      "(4, 'o')\n",
      "(5, 'n')\n"
     ]
    }
   ],
   "source": [
    "my_string = \"python\"\n",
    "for x in enumerate (my_string):\n",
    "    print(x)"
   ]
  },
  {
   "cell_type": "code",
   "execution_count": null,
   "id": "e58e05ec",
   "metadata": {},
   "outputs": [],
   "source": []
  }
 ],
 "metadata": {
  "kernelspec": {
   "display_name": "Python 3 (ipykernel)",
   "language": "python",
   "name": "python3"
  },
  "language_info": {
   "codemirror_mode": {
    "name": "ipython",
    "version": 3
   },
   "file_extension": ".py",
   "mimetype": "text/x-python",
   "name": "python",
   "nbconvert_exporter": "python",
   "pygments_lexer": "ipython3",
   "version": "3.10.9"
  }
 },
 "nbformat": 4,
 "nbformat_minor": 5
}
